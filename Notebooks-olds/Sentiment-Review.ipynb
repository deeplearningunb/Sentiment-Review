{
 "cells": [
  {
   "cell_type": "code",
   "execution_count": 1,
   "metadata": {
    "scrolled": true
   },
   "outputs": [
    {
     "name": "stdout",
     "output_type": "stream",
     "text": [
      "Requirement already satisfied: tensorflow==1.13.1 in /srv/conda/envs/notebook/lib/python3.7/site-packages (from -r requirements.txt (line 1)) (1.13.1)\n",
      "Requirement already satisfied: numpy==1.16.2 in /srv/conda/envs/notebook/lib/python3.7/site-packages (from -r requirements.txt (line 2)) (1.16.2)\n",
      "Requirement already satisfied: pandas==0.24.2 in /srv/conda/envs/notebook/lib/python3.7/site-packages (from -r requirements.txt (line 3)) (0.24.2)\n",
      "Requirement already satisfied: matplotlib==3.0.3 in /srv/conda/envs/notebook/lib/python3.7/site-packages (from -r requirements.txt (line 4)) (3.0.3)\n",
      "Requirement already satisfied: Keras==2.2.4 in /srv/conda/envs/notebook/lib/python3.7/site-packages (from -r requirements.txt (line 5)) (2.2.4)\n",
      "Requirement already satisfied: sklearn==0.0 in /srv/conda/envs/notebook/lib/python3.7/site-packages (from -r requirements.txt (line 6)) (0.0)\n",
      "Requirement already satisfied: protobuf>=3.6.1 in /srv/conda/envs/notebook/lib/python3.7/site-packages (from tensorflow==1.13.1->-r requirements.txt (line 1)) (3.8.0)\n",
      "Requirement already satisfied: keras-applications>=1.0.6 in /srv/conda/envs/notebook/lib/python3.7/site-packages (from tensorflow==1.13.1->-r requirements.txt (line 1)) (1.0.8)\n",
      "Requirement already satisfied: astor>=0.6.0 in /srv/conda/envs/notebook/lib/python3.7/site-packages (from tensorflow==1.13.1->-r requirements.txt (line 1)) (0.8.0)\n",
      "Requirement already satisfied: termcolor>=1.1.0 in /srv/conda/envs/notebook/lib/python3.7/site-packages (from tensorflow==1.13.1->-r requirements.txt (line 1)) (1.1.0)\n",
      "Requirement already satisfied: gast>=0.2.0 in /srv/conda/envs/notebook/lib/python3.7/site-packages (from tensorflow==1.13.1->-r requirements.txt (line 1)) (0.2.2)\n",
      "Requirement already satisfied: absl-py>=0.1.6 in /srv/conda/envs/notebook/lib/python3.7/site-packages (from tensorflow==1.13.1->-r requirements.txt (line 1)) (0.7.1)\n",
      "Requirement already satisfied: six>=1.10.0 in /srv/conda/envs/notebook/lib/python3.7/site-packages (from tensorflow==1.13.1->-r requirements.txt (line 1)) (1.12.0)\n",
      "Requirement already satisfied: tensorflow-estimator<1.14.0rc0,>=1.13.0 in /srv/conda/envs/notebook/lib/python3.7/site-packages (from tensorflow==1.13.1->-r requirements.txt (line 1)) (1.13.0)\n",
      "Requirement already satisfied: keras-preprocessing>=1.0.5 in /srv/conda/envs/notebook/lib/python3.7/site-packages (from tensorflow==1.13.1->-r requirements.txt (line 1)) (1.1.0)\n",
      "Requirement already satisfied: tensorboard<1.14.0,>=1.13.0 in /srv/conda/envs/notebook/lib/python3.7/site-packages (from tensorflow==1.13.1->-r requirements.txt (line 1)) (1.13.1)\n",
      "Requirement already satisfied: wheel>=0.26 in /srv/conda/envs/notebook/lib/python3.7/site-packages (from tensorflow==1.13.1->-r requirements.txt (line 1)) (0.33.4)\n",
      "Requirement already satisfied: grpcio>=1.8.6 in /srv/conda/envs/notebook/lib/python3.7/site-packages (from tensorflow==1.13.1->-r requirements.txt (line 1)) (1.21.1)\n",
      "Requirement already satisfied: pytz>=2011k in /srv/conda/envs/notebook/lib/python3.7/site-packages (from pandas==0.24.2->-r requirements.txt (line 3)) (2019.1)\n",
      "Requirement already satisfied: python-dateutil>=2.5.0 in /srv/conda/envs/notebook/lib/python3.7/site-packages (from pandas==0.24.2->-r requirements.txt (line 3)) (2.8.0)\n",
      "Requirement already satisfied: kiwisolver>=1.0.1 in /srv/conda/envs/notebook/lib/python3.7/site-packages (from matplotlib==3.0.3->-r requirements.txt (line 4)) (1.1.0)\n",
      "Requirement already satisfied: cycler>=0.10 in /srv/conda/envs/notebook/lib/python3.7/site-packages (from matplotlib==3.0.3->-r requirements.txt (line 4)) (0.10.0)\n",
      "Requirement already satisfied: pyparsing!=2.0.4,!=2.1.2,!=2.1.6,>=2.0.1 in /srv/conda/envs/notebook/lib/python3.7/site-packages (from matplotlib==3.0.3->-r requirements.txt (line 4)) (2.4.0)\n",
      "Requirement already satisfied: scipy>=0.14 in /srv/conda/envs/notebook/lib/python3.7/site-packages (from Keras==2.2.4->-r requirements.txt (line 5)) (1.3.0)\n",
      "Requirement already satisfied: h5py in /srv/conda/envs/notebook/lib/python3.7/site-packages (from Keras==2.2.4->-r requirements.txt (line 5)) (2.9.0)\n",
      "Requirement already satisfied: pyyaml in /srv/conda/envs/notebook/lib/python3.7/site-packages (from Keras==2.2.4->-r requirements.txt (line 5)) (5.1.1)\n",
      "Requirement already satisfied: scikit-learn in /srv/conda/envs/notebook/lib/python3.7/site-packages (from sklearn==0.0->-r requirements.txt (line 6)) (0.21.2)\n",
      "Requirement already satisfied: setuptools in /srv/conda/envs/notebook/lib/python3.7/site-packages (from protobuf>=3.6.1->tensorflow==1.13.1->-r requirements.txt (line 1)) (41.0.1)\n",
      "Requirement already satisfied: mock>=2.0.0 in /srv/conda/envs/notebook/lib/python3.7/site-packages (from tensorflow-estimator<1.14.0rc0,>=1.13.0->tensorflow==1.13.1->-r requirements.txt (line 1)) (3.0.5)\n",
      "Requirement already satisfied: markdown>=2.6.8 in /srv/conda/envs/notebook/lib/python3.7/site-packages (from tensorboard<1.14.0,>=1.13.0->tensorflow==1.13.1->-r requirements.txt (line 1)) (3.1.1)\n",
      "Requirement already satisfied: werkzeug>=0.11.15 in /srv/conda/envs/notebook/lib/python3.7/site-packages (from tensorboard<1.14.0,>=1.13.0->tensorflow==1.13.1->-r requirements.txt (line 1)) (0.15.4)\n",
      "Requirement already satisfied: joblib>=0.11 in /srv/conda/envs/notebook/lib/python3.7/site-packages (from scikit-learn->sklearn==0.0->-r requirements.txt (line 6)) (0.13.2)\n"
     ]
    }
   ],
   "source": [
    "!pip install -r requirements.txt"
   ]
  },
  {
   "cell_type": "code",
   "execution_count": 2,
   "metadata": {},
   "outputs": [],
   "source": [
    "import pandas as pd\n",
    "import numpy as np\n",
    "import os\n",
    "from IPython.display import HTML\n",
    "\n",
    "import warnings\n",
    "warnings.filterwarnings('ignore')"
   ]
  },
  {
   "cell_type": "code",
   "execution_count": 3,
   "metadata": {},
   "outputs": [],
   "source": [
    "path = 'Review-Imdb/'\n",
    "positiveFiles = [x for x in os.listdir(path+\"train/pos/\") if x.endswith(\".txt\")]\n",
    "negativeFiles = [x for x in os.listdir(path+\"train/neg/\") if x.endswith(\".txt\")]\n",
    "testPosFiles = [x for x in os.listdir(path+\"test/pos/\") if x.endswith(\".txt\")]\n",
    "testNegFiles = [x for x in os.listdir(path+\"test/neg/\") if x.endswith(\".txt\")]"
   ]
  },
  {
   "cell_type": "code",
   "execution_count": 4,
   "metadata": {},
   "outputs": [
    {
     "data": {
      "text/plain": [
       "12500"
      ]
     },
     "execution_count": 4,
     "metadata": {},
     "output_type": "execute_result"
    }
   ],
   "source": [
    "len(positiveFiles)"
   ]
  },
  {
   "cell_type": "code",
   "execution_count": 5,
   "metadata": {},
   "outputs": [
    {
     "data": {
      "text/plain": [
       "12500"
      ]
     },
     "execution_count": 5,
     "metadata": {},
     "output_type": "execute_result"
    }
   ],
   "source": [
    "len(negativeFiles)"
   ]
  },
  {
   "cell_type": "code",
   "execution_count": 6,
   "metadata": {},
   "outputs": [
    {
     "data": {
      "text/plain": [
       "12500"
      ]
     },
     "execution_count": 6,
     "metadata": {},
     "output_type": "execute_result"
    }
   ],
   "source": [
    "len(testPosFiles)"
   ]
  },
  {
   "cell_type": "code",
   "execution_count": 7,
   "metadata": {},
   "outputs": [
    {
     "data": {
      "text/plain": [
       "12500"
      ]
     },
     "execution_count": 7,
     "metadata": {},
     "output_type": "execute_result"
    }
   ],
   "source": [
    "len(testNegFiles)"
   ]
  },
  {
   "cell_type": "code",
   "execution_count": 8,
   "metadata": {},
   "outputs": [],
   "source": [
    "positiveReviews, negativeReviews, testPosReviews, testNegReviews = [], [], [], []\n",
    "for pfile in positiveFiles:\n",
    "    with open(path+\"train/pos/\"+pfile, encoding=\"latin1\") as f:\n",
    "        positiveReviews.append(f.read())\n",
    "for nfile in negativeFiles:\n",
    "    with open(path+\"train/neg/\"+nfile, encoding=\"latin1\") as f:\n",
    "        negativeReviews.append(f.read())\n",
    "for tfile in testPosFiles:\n",
    "    with open(path+\"test/pos/\"+tfile, encoding=\"latin1\") as f:\n",
    "        testPosReviews.append(f.read())\n",
    "for tfile in testNegFiles:\n",
    "    with open(path+\"test/neg/\"+tfile, encoding=\"latin1\") as f:\n",
    "        testNegReviews.append(f.read())"
   ]
  },
  {
   "cell_type": "code",
   "execution_count": 9,
   "metadata": {},
   "outputs": [
    {
     "data": {
      "text/html": [
       "<div>\n",
       "<style scoped>\n",
       "    .dataframe tbody tr th:only-of-type {\n",
       "        vertical-align: middle;\n",
       "    }\n",
       "\n",
       "    .dataframe tbody tr th {\n",
       "        vertical-align: top;\n",
       "    }\n",
       "\n",
       "    .dataframe thead th {\n",
       "        text-align: right;\n",
       "    }\n",
       "</style>\n",
       "<table border=\"1\" class=\"dataframe\">\n",
       "  <thead>\n",
       "    <tr style=\"text-align: right;\">\n",
       "      <th></th>\n",
       "      <th>review</th>\n",
       "      <th>label</th>\n",
       "      <th>file</th>\n",
       "    </tr>\n",
       "  </thead>\n",
       "  <tbody>\n",
       "    <tr>\n",
       "      <th>26247</th>\n",
       "      <td>Gilmore Girls is a hilarious show with never e...</td>\n",
       "      <td>-1</td>\n",
       "      <td>3206_10.txt</td>\n",
       "    </tr>\n",
       "    <tr>\n",
       "      <th>35067</th>\n",
       "      <td>The net is an excellent movie! It's about Ange...</td>\n",
       "      <td>-1</td>\n",
       "      <td>8217_8.txt</td>\n",
       "    </tr>\n",
       "    <tr>\n",
       "      <th>34590</th>\n",
       "      <td>This film flopped miserably in the UK, and it ...</td>\n",
       "      <td>-1</td>\n",
       "      <td>994_7.txt</td>\n",
       "    </tr>\n",
       "    <tr>\n",
       "      <th>16668</th>\n",
       "      <td>Oh boy, where do I go with this one? Herendous...</td>\n",
       "      <td>0</td>\n",
       "      <td>10518_1.txt</td>\n",
       "    </tr>\n",
       "    <tr>\n",
       "      <th>12196</th>\n",
       "      <td>This movie is a great mocumentary. It follows ...</td>\n",
       "      <td>1</td>\n",
       "      <td>8136_9.txt</td>\n",
       "    </tr>\n",
       "  </tbody>\n",
       "</table>\n",
       "</div>"
      ],
      "text/plain": [
       "                                                  review  label         file\n",
       "26247  Gilmore Girls is a hilarious show with never e...     -1  3206_10.txt\n",
       "35067  The net is an excellent movie! It's about Ange...     -1   8217_8.txt\n",
       "34590  This film flopped miserably in the UK, and it ...     -1    994_7.txt\n",
       "16668  Oh boy, where do I go with this one? Herendous...      0  10518_1.txt\n",
       "12196  This movie is a great mocumentary. It follows ...      1   8136_9.txt"
      ]
     },
     "execution_count": 9,
     "metadata": {},
     "output_type": "execute_result"
    }
   ],
   "source": [
    "reviews = pd.concat([\n",
    "    pd.DataFrame({\"review\":positiveReviews, \"label\":1, \"file\":positiveFiles}),\n",
    "    pd.DataFrame({\"review\":negativeReviews, \"label\":0, \"file\":negativeFiles}),\n",
    "    pd.DataFrame({\"review\":testPosReviews, \"label\":-1, \"file\":testPosFiles}),\n",
    "    pd.DataFrame({\"review\":testNegReviews, \"label\":-1, \"file\":testNegFiles})\n",
    "], ignore_index=True).sample(frac=1, random_state=1)\n",
    "reviews.head()"
   ]
  },
  {
   "cell_type": "code",
   "execution_count": 10,
   "metadata": {},
   "outputs": [
    {
     "data": {
      "text/plain": [
       "(50000, 3)"
      ]
     },
     "execution_count": 10,
     "metadata": {},
     "output_type": "execute_result"
    }
   ],
   "source": [
    "reviews.shape"
   ]
  },
  {
   "cell_type": "markdown",
   "metadata": {},
   "source": [
    "With everything centralized in 1 dataframe, we now perform train, validation and test set splits."
   ]
  },
  {
   "cell_type": "code",
   "execution_count": 11,
   "metadata": {},
   "outputs": [],
   "source": [
    "reviews = reviews[[\"review\", \"label\", \"file\"]].sample(frac=1, random_state=1)\n",
    "train = reviews[reviews.label!=-1].sample(frac=0.7, random_state=1)\n",
    "valid = reviews[reviews.label!=-1].drop(train.index)\n",
    "test = reviews[reviews.label==-1]"
   ]
  },
  {
   "cell_type": "code",
   "execution_count": 12,
   "metadata": {},
   "outputs": [
    {
     "name": "stdout",
     "output_type": "stream",
     "text": [
      "(17500, 3)\n",
      "(7500, 3)\n",
      "(25000, 3)\n"
     ]
    }
   ],
   "source": [
    "print(train.shape)\n",
    "print(valid.shape)\n",
    "print(test.shape)"
   ]
  },
  {
   "cell_type": "code",
   "execution_count": 13,
   "metadata": {},
   "outputs": [
    {
     "data": {
      "text/html": [
       "I really don't want to compare Martin Scorsese's Cape Fear to the classic 1962 Cape Fear film, but I can't help it. Not only am I a huge fan of the Robert Mitchum and Gregory Peck starred Cape Fear, but when Scorsese includes scenes right out of the previous film (Cady taking the keys out of the ignition, dog dying) and even using Bernard Herrmann's score throughout the entire film, he's not giving me a lot of opportunities to not make a comparison as I can't help but think of the classic Cape Fear nearly every scene. When comparing Scorsese's version of Cape Fear to the classic version, the remake comes out destroyed by the classic; but even when taking the film by itself, it's still bad.<br /><br />Now Scorsese and screenwriter Wesley Strick didn't just remake the 1962 Cape Fear scene for scene, they tried to do things differently. Unfortunately this is one of the film's problems. Gone is the original crazy and animal-like Max Cady who is out for personal revenge, the Max Cady in the 1991 version is a religious fanatic out to \"save\" Sam Bowden and who is in touch with his feminine side (his words, not mine). Also gone is the stand-up and strong Sam Bowden seen in the classic Cape Fear film, the Sam found in the 1991 remake is very goofy, Magoo, distrustful, and very unlikable. Even Mrs. Bowden is a completely different character - she's crazier than Max Cady is! The overall story has also been changed around - Sam didn't testify against Cady in court to put him in jail like in the classic version, Sam is now Cady's ex-lawyer who Cady suspects of not doing all he could to keep him out of jail and is out to \"save\" him.<br /><br />The overall story has been changed, and I don't hold too much against it, but the overall script is also weak all around. Other sub-plots have been thrown into the mix that not only distract from the bigger picture, they are also just poorly written. The film also includes a few frankly absurd scenes and is filled with apathetic and even ridiculous lines that you can't take the least bit seriously. These aspects take away from the dangerous and thrilling nature that the film is supposed to have, but they have some help in this department as well.<br /><br />Now the classic version of Cape Fear was extraordinarily filmed with brilliant lighting and a powerfully effective suggestive subtlety combined with a barefaced brutality that delivered thrills when the film called for it and a sense of danger throughout its entirety. However, Scorsese is unable to do any of this in his Cape Fear, giving the film a cookie-cutter early 1990s look, no sense of danger, no suspenseful scenes, and little style (unless you count animating fire and the skyline style). Yeah, there is some gruesome violence and some effort was put in to make this Cape Fear bigger than the original, but it ends up empty and all shock but no awe.<br /><br />If all that wasn't enough, the acting isn't great either. Robert De Niro (being somehow nominated for an Academy Award for his performance) starts off alright as Max Cady, but he gets progressively worse until he begins to get nothing but laughs instead of scares by the end of the film. The opposite thing happens for Jessica Lange and her performance of Mrs. Bowden, going from overacting for most of the film to giving a convincing display of fear and desperation towards the end. As Sam Bowden, Nick Nolte stays the same throughout the whole film: beige. Juliette Lewis (who also reeled in an Academy Award nomination) is decent enough in her role as Danielle Bowden, but she's called upon to play a real stupid character and it's hard to really like what we see on screen from her.<br /><br />This film seems to be often counted as one of the few good remakes, and I can't figure out why. I wanted to like it; I really did - I mean, if there's going to be a remake of Cape Fear I'd rather like that one too - but I just couldn't. Containing nothing to be great on its own and being crushed by the unavoidable comparison to the original Cape Fear, I found Martin Scorsese's Cape Fear to be a very bad film indeed. The best things about the film are Robert Mitchum and Gregory Peck in their supporting roles - go figure."
      ],
      "text/plain": [
       "<IPython.core.display.HTML object>"
      ]
     },
     "execution_count": 13,
     "metadata": {},
     "output_type": "execute_result"
    }
   ],
   "source": [
    "HTML(train.review.iloc[0])"
   ]
  },
  {
   "cell_type": "code",
   "execution_count": 14,
   "metadata": {},
   "outputs": [
    {
     "name": "stdout",
     "output_type": "stream",
     "text": [
      "(17500, 3)\n",
      "(7500, 3)\n",
      "(25000, 3)\n"
     ]
    }
   ],
   "source": [
    "print(train.shape)\n",
    "print(valid.shape)\n",
    "print(test.shape)\n",
    "\n",
    "train.to_csv('train.csv',index=False)\n",
    "valid.to_csv('valid.csv',index=False)\n",
    "test.to_csv('test.csv',index=False)"
   ]
  }
 ],
 "metadata": {
  "kernelspec": {
   "display_name": "Python 3",
   "language": "python",
   "name": "python3"
  },
  "language_info": {
   "codemirror_mode": {
    "name": "ipython",
    "version": 3
   },
   "file_extension": ".py",
   "mimetype": "text/x-python",
   "name": "python",
   "nbconvert_exporter": "python",
   "pygments_lexer": "ipython3",
   "version": "3.7.3"
  }
 },
 "nbformat": 4,
 "nbformat_minor": 2
}
